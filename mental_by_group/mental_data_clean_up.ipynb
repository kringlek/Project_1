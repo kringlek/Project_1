{
 "cells": [
  {
   "cell_type": "code",
   "execution_count": null,
   "id": "a1b98318",
   "metadata": {},
   "outputs": [],
   "source": [
    "import pandas as pd\n",
    "import numpy as np\n",
    "import matplotlib.pyplot as plt\n",
    "from matplotlib.pyplot import figure"
   ]
  },
  {
   "cell_type": "code",
   "execution_count": null,
   "id": "a076dcf6",
   "metadata": {},
   "outputs": [],
   "source": [
    "# Save the csv data to a dataframe\n",
    "mental = pd.read_csv('../Resources/mental.csv')\n",
    "mental"
   ]
  },
  {
   "cell_type": "code",
   "execution_count": null,
   "id": "ff069a8b",
   "metadata": {},
   "outputs": [],
   "source": [
    "# Extract the data for a given indicator and group \n",
    "def extract_mental_data (indicator, group):\n",
    "\n",
    "    print (f\"indicator: {indicator}\")\n",
    "    print (f\"group    : {group}\")\n",
    "    \n",
    "    # Extract the columns needed for analysis\n",
    "    mental_data = mental.loc[  (mental[\"Indicator\"] == indicator) \n",
    "                             & (mental[\"Group\"]     == group)\n",
    "                             , [ \"Subgroup\"\n",
    "                               , \"Value\"\n",
    "                               , \"Time Period Start Date\"\n",
    "                               , \"Time Period Label\"]\n",
    "                            ].reset_index(drop=True)\n",
    "\n",
    "    # Remove rows with null values\n",
    "    mental_data = mental_data.dropna()\n",
    "\n",
    "    # Convert sort the data by 'Time Period Start Date' \n",
    "    mental_data['Date'] = pd.to_datetime(mental_data['Time Period Start Date'])\n",
    "    mental_data         = mental_data.sort_values(by=['Date'])\n",
    "    mental_data         = mental_data.astype({'Date':str})\n",
    "\n",
    "    # Create df for the average Value by Subgroup\n",
    "    subgroup_df = mental_data.groupby([\"Subgroup\"])\n",
    "    by_subgroup = subgroup_df[\"Value\"].mean()\n",
    "    \n",
    "    # return DataFrame\n",
    "    return mental_data\n"
   ]
  },
  {
   "cell_type": "markdown",
   "id": "95cb11a1",
   "metadata": {},
   "source": [
    "### By Education"
   ]
  },
  {
   "cell_type": "code",
   "execution_count": null,
   "id": "9dc37ba9",
   "metadata": {},
   "outputs": [],
   "source": [
    "# Extract the data for a specific Indicator and Group \n",
    "indicator = \"Symptoms of Anxiety Disorder or Depressive Disorder\"\n",
    "group     = \"By Education\"\n",
    "mental_data = extract_mental_data(indicator, group)\n",
    "mental_data"
   ]
  },
  {
   "cell_type": "code",
   "execution_count": null,
   "id": "01a25941",
   "metadata": {},
   "outputs": [],
   "source": [
    "subgroups = mental_data['Subgroup'].unique()\n",
    "subgroups"
   ]
  },
  {
   "cell_type": "markdown",
   "id": "ca2c57a3",
   "metadata": {},
   "source": [
    "### By Age"
   ]
  },
  {
   "cell_type": "code",
   "execution_count": null,
   "id": "6383f8e0",
   "metadata": {},
   "outputs": [],
   "source": [
    "# Extract the data for a specific Indicator and Group \n",
    "indicator = \"Symptoms of Anxiety Disorder or Depressive Disorder\"\n",
    "group     = \"By Age\"\n",
    "mental_data = extract_mental_data(indicator, group)\n",
    "mental_data"
   ]
  },
  {
   "cell_type": "code",
   "execution_count": null,
   "id": "7202316b",
   "metadata": {},
   "outputs": [],
   "source": []
  }
 ],
 "metadata": {
  "kernelspec": {
   "display_name": "Python 3 (ipykernel)",
   "language": "python",
   "name": "python3"
  },
  "language_info": {
   "codemirror_mode": {
    "name": "ipython",
    "version": 3
   },
   "file_extension": ".py",
   "mimetype": "text/x-python",
   "name": "python",
   "nbconvert_exporter": "python",
   "pygments_lexer": "ipython3",
   "version": "3.8.13"
  }
 },
 "nbformat": 4,
 "nbformat_minor": 5
}
