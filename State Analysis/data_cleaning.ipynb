{
 "cells": [
  {
   "cell_type": "code",
   "execution_count": 3,
   "id": "fdd7b8cf",
   "metadata": {},
   "outputs": [],
   "source": [
    "import pandas as pd\n",
    "import matplotlib.pyplot as plt\n",
    "import requests\n",
    "import json\n",
    "from config import gmap_api_key"
   ]
  },
  {
   "cell_type": "code",
   "execution_count": 8,
   "id": "e47ecc65",
   "metadata": {},
   "outputs": [],
   "source": [
    "mental_df = pd.read_csv(\"Resources/mental.csv\")\n",
    "anxiety_depression = mental_df.loc[(mental_df[\"Group\"] == \"By State\") \\\n",
    "                                     &(mental_df[\"Indicator\"] == \\\n",
    "                                       \"Symptoms of Anxiety Disorder or Depressive Disorder\"),:]\n",
    "anxiety_depression_states = pd.DataFrame({\"State\":anxiety_depression[\"State\"].unique(),\"Lat\":\"\",\"Lng\":\"\"})\n",
    "for index,row in anxiety_depression_states.iterrows():\n",
    "    state = row[\"State\"]\n",
    "    target_url = f\"https://maps.googleapis.com/maps/api/geocode/json?address={state}&key={gmap_api_key}\"\n",
    "    response = requests.get(target_url).json()\n",
    "    try:\n",
    "        lat = response['results'][0]['geometry']['location']['lat']\n",
    "        lng = response['results'][0]['geometry']['location']['lng']\n",
    "        anxiety_depression_states.loc[index,\"Lat\"]=lat\n",
    "        anxiety_depression_states.loc[index,\"Lng\"]=lng\n",
    "    except:\n",
    "        print(f\"{state} not found. Skipping...\")\n",
    "        pass\n",
    "state_anxiety_depression = pd.merge(anxiety_depression,anxiety_depression_states, how=\"left\",on=\"State\")\n",
    "state_anxiety_depression\n",
    "state_anxiety_depression[\"Time Period Start Date\"]=pd.to_datetime(state_anxiety_depression[\"Time Period Start Date\"])\n",
    "state_anxiety_depression[\"Time Period End Date\"]=pd.to_datetime(state_anxiety_depression[\"Time Period End Date\"])"
   ]
  },
  {
   "cell_type": "code",
   "execution_count": 9,
   "id": "cebe2e3c",
   "metadata": {},
   "outputs": [],
   "source": [
    "vote_count = pd.read_csv(\"Resources/2020_vote.csv\")\n",
    "hpsa_df = pd.read_csv(\"Resources/HPSA.csv\")\n",
    "state_dataset = pd.merge(state_anxiety_depression,vote_count,on=\"State\")\n",
    "state_dataset=pd.merge(state_dataset,hpsa_df,on=\"State\")\n",
    "state_dataset.to_csv(\"Resources/state_dataset.csv\",index=False)"
   ]
  },
  {
   "cell_type": "code",
   "execution_count": null,
   "id": "187ae962",
   "metadata": {},
   "outputs": [],
   "source": []
  }
 ],
 "metadata": {
  "kernelspec": {
   "display_name": "Python 3 (ipykernel)",
   "language": "python",
   "name": "python3"
  },
  "language_info": {
   "codemirror_mode": {
    "name": "ipython",
    "version": 3
   },
   "file_extension": ".py",
   "mimetype": "text/x-python",
   "name": "python",
   "nbconvert_exporter": "python",
   "pygments_lexer": "ipython3",
   "version": "3.9.12"
  }
 },
 "nbformat": 4,
 "nbformat_minor": 5
}
