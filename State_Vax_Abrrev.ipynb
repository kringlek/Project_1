{
 "cells": [
  {
   "cell_type": "code",
   "execution_count": null,
   "id": "56816ca0",
   "metadata": {},
   "outputs": [],
   "source": []
  },
  {
   "cell_type": "code",
   "execution_count": null,
   "id": "eb768eb4",
   "metadata": {},
   "outputs": [],
   "source": [
    "#State Abbrev w. mental vs vaccine\n",
    "state_2 = {\n",
    "    \"Alabama\": \"AL\",\n",
    "    \"Alaska\": \"AK\",\n",
    "    \"Arizona\": \"AZ\",\n",
    "    \"Arkansas\": \"AR\",\n",
    "    \"California\": \"CA\",\n",
    "    \"Colorado\": \"CO\",\n",
    "    \"Connecticut\": \"CT\",\n",
    "    \"Delaware\": \"DE\",\n",
    "    \"Florida\": \"FL\",\n",
    "    \"Georgia\": \"GA\",\n",
    "    \"Hawaii\": \"HI\",\n",
    "    \"Idaho\": \"ID\",\n",
    "    \"Illinois\": \"IL\",\n",
    "    \"Indiana\": \"IN\",\n",
    "    \"Iowa\": \"IA\",\n",
    "    \"Kansas\": \"KS\",\n",
    "    \"Kentucky\": \"KY\",\n",
    "    \"Louisiana\": \"LA\",\n",
    "    \"Maine\": \"ME\",\n",
    "    \"Maryland\": \"MD\",\n",
    "    \"Massachusetts\": \"MA\",\n",
    "    \"Michigan\": \"MI\",\n",
    "    \"Minnesota\": \"MN\",\n",
    "    \"Mississippi\": \"MS\",\n",
    "    \"Missouri\": \"MO\",\n",
    "    \"Montana\": \"MT\",\n",
    "    \"Nebraska\": \"NE\",\n",
    "    \"Nevada\": \"NV\",\n",
    "    \"New Hampshire\": \"NH\",\n",
    "    \"New Jersey\": \"NJ\",\n",
    "    \"New Mexico\": \"NM\",\n",
    "    \"New York\": \"NY\",\n",
    "    \"North Carolina\": \"NC\",\n",
    "    \"North Dakota\": \"ND\",\n",
    "    \"Ohio\": \"OH\",\n",
    "    \"Oklahoma\": \"OK\",\n",
    "    \"Oregon\": \"OR\",\n",
    "    \"Pennsylvania\": \"PA\",\n",
    "    \"Rhode Island\": \"RI\",\n",
    "    \"South Carolina\": \"SC\",\n",
    "    \"South Dakota\": \"SD\",\n",
    "    \"Tennessee\": \"TN\",\n",
    "    \"Texas\": \"TX\",\n",
    "    \"Utah\": \"UT\",\n",
    "    \"Vermont\": \"VT\",\n",
    "    \"Virginia\": \"VA\",\n",
    "    \"Washington\": \"WA\",\n",
    "    \"West Virginia\": \"WV\",\n",
    "    \"Wisconsin\": \"WI\",\n",
    "    \"Wyoming\": \"WY\",\n",
    "    \"District of Columbia\": \"DC\",\n",
    "    \"American Samoa\": \"AS\",\n",
    "    \"Guam\": \"GU\",\n",
    "    \"Northern Mariana Islands\": \"MP\",\n",
    "    \"Puerto Rico\": \"PR\",\n",
    "    \"United States Minor Outlying Islands\": \"UM\",\n",
    "    \"U.S. Virgin Islands\": \"VI\",\n",
    "}\n",
    "\n",
    "state_2 = {state: abbrev for state, abbrev in state_2.items()}\n",
    "mental_trimmed['abbrev'] = mental_trimmed['State'].map(state_2)"
   ]
  },
  {
   "cell_type": "code",
   "execution_count": null,
   "id": "193ca98f",
   "metadata": {},
   "outputs": [],
   "source": [
    "#Rename vaccine\n",
    "vaccine[\"abbrev\"] = vaccine[\"Recip_State\"]\n",
    "vaccine"
   ]
  },
  {
   "cell_type": "code",
   "execution_count": null,
   "id": "1cf784a3",
   "metadata": {},
   "outputs": [],
   "source": [
    "#Trim mental df for state comparision\n",
    "mental_health_by_state_summary = pd.DataFrame({\n",
    "    \"Symptoms\": mental_trimmed[\"Indicator\"],\n",
    "    \"Abbrev\": mental_trimmed[\"abbrev\"],\n",
    "    \"Time Period\": mental_trimmed[\"Time Period\"],\n",
    "    \"Time Period Label\": mental_trimmed[\"Time Period Label\"],\n",
    "    \"Time Period Start Date\": mental_trimmed[\"Time Period Start Date\"],\n",
    "    \"Time Period End Date\": mental_trimmed[\"Time Period End Date\"],\n",
    "    \"Time Period\": mental_trimmed[\"Time Period\"],\n",
    "    \"Time Period Label\": mental_trimmed[\"Time Period Label\"],\n",
    "    \"Value\": mental_trimmed[\"Time Period\"],\n",
    "    \"Low CI\": mental_trimmed[\"Low CI\"],\n",
    "    \"High CI\": mental_trimmed[\"High CI\"]})\n",
    "mental_health_by_state_summary"
   ]
  },
  {
   "cell_type": "code",
   "execution_count": null,
   "id": "508bafc4",
   "metadata": {},
   "outputs": [],
   "source": [
    "#vax data into state level % vax-then merge\n",
    "#merged_data = pd.merge(mental_trimmed, vaccine, how=\"left\", on=[\"abbrev\"])\n",
    "#merged_data\n"
   ]
  }
 ],
 "metadata": {
  "kernelspec": {
   "display_name": "Python 3 (ipykernel)",
   "language": "python",
   "name": "python3"
  },
  "language_info": {
   "codemirror_mode": {
    "name": "ipython",
    "version": 3
   },
   "file_extension": ".py",
   "mimetype": "text/x-python",
   "name": "python",
   "nbconvert_exporter": "python",
   "pygments_lexer": "ipython3",
   "version": "3.9.12"
  }
 },
 "nbformat": 4,
 "nbformat_minor": 5
}
